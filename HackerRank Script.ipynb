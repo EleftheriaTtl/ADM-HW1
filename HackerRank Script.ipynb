{
 "cells": [
  {
   "cell_type": "markdown",
   "metadata": {},
   "source": [
    "# ===== PROBLEM1 ====="
   ]
  },
  {
   "cell_type": "markdown",
   "metadata": {},
   "source": [
    "# Exercise 1 - Introduction - Say \"Hello, World!\" With Python"
   ]
  },
  {
   "cell_type": "code",
   "execution_count": null,
   "metadata": {},
   "outputs": [],
   "source": [
    "print(\"Hello, World!\")"
   ]
  },
  {
   "cell_type": "markdown",
   "metadata": {},
   "source": [
    "# Exercise 2 - Introduction - Python If-Else"
   ]
  },
  {
   "cell_type": "code",
   "execution_count": null,
   "metadata": {},
   "outputs": [],
   "source": [
    "#!/bin/python\n",
    "\n",
    "import math\n",
    "import os\n",
    "import random\n",
    "import re\n",
    "import sys\n",
    "\n",
    "\n",
    "\n",
    "if __name__ == '__main__':\n",
    "    n = int(raw_input().strip())\n",
    "    if n>=1 and n<=100:\n",
    "        if n%2==1:\n",
    "            print(\"Weird\")\n",
    "        else:\n",
    "            if n>=2 and n<=5:\n",
    "                print(\"Not Weird\")\n",
    "            elif n>=6 and n<=20:\n",
    "                print(\"Weird\")\n",
    "            elif n>0:\n",
    "                print(\"Not Weird\")\n",
    "    else:\n",
    "        print(\"Try Again\")\n"
   ]
  },
  {
   "cell_type": "markdown",
   "metadata": {},
   "source": [
    "# Exercise 3 - Introduction - Arithmetic Operators"
   ]
  },
  {
   "cell_type": "code",
   "execution_count": null,
   "metadata": {},
   "outputs": [],
   "source": [
    "if __name__ == '__main__':\n",
    "    a = int(raw_input())\n",
    "    b = int(raw_input())\n",
    "    if (a>=1 and a<=(10**10) and b>=1 and b<=(10**10)):\n",
    "        s = a+b\n",
    "        d = a-b\n",
    "        p = a*b\n",
    "        print(s)\n",
    "        print(d)\n",
    "        print(p)"
   ]
  },
  {
   "cell_type": "markdown",
   "metadata": {},
   "source": [
    "# Exercise 4 - Introduction - Python: Division"
   ]
  },
  {
   "cell_type": "code",
   "execution_count": null,
   "metadata": {},
   "outputs": [],
   "source": [
    "from __future__ import division\n",
    "\n",
    "if __name__ == '__main__':\n",
    "    a = int(raw_input())\n",
    "    b = int(raw_input())\n",
    "    print(a//b)\n",
    "    print(a/b)\n",
    "\n"
   ]
  },
  {
   "cell_type": "markdown",
   "metadata": {},
   "source": [
    "# Exercise 5 - Introduction - Loops"
   ]
  },
  {
   "cell_type": "code",
   "execution_count": null,
   "metadata": {},
   "outputs": [],
   "source": [
    "if __name__ == '__main__':\n",
    "    n = int(raw_input())\n",
    "    if n>=1 and n<=20:\n",
    "        for i in range(0, n ):\n",
    "            print(i**2)\n",
    "\n",
    "\n",
    "   \n"
   ]
  },
  {
   "cell_type": "markdown",
   "metadata": {},
   "source": [
    "# Exercise 6 - Introduction - Write a function"
   ]
  },
  {
   "cell_type": "code",
   "execution_count": null,
   "metadata": {},
   "outputs": [],
   "source": [
    "def is_leap(year):\n",
    "    leap = False\n",
    "    if year>=1900 and year<=(10**5):\n",
    "        y = year\n",
    "        if y%4==0:\n",
    "            if y%100== 0 :\n",
    "                if y%400 == 0:\n",
    "                    leap = True\n",
    "                else:\n",
    "                    leap = False\n",
    "            else:\n",
    "                leap = True\n",
    "        else:\n",
    "            leap = False\n",
    "    \n",
    "    return leap\n",
    "\n"
   ]
  },
  {
   "cell_type": "markdown",
   "metadata": {},
   "source": [
    "# Exercise 7 - Introduction - Print Function"
   ]
  },
  {
   "cell_type": "code",
   "execution_count": null,
   "metadata": {},
   "outputs": [],
   "source": [
    "from __future__ import print_function\n",
    "\n",
    "if __name__ == '__main__':\n",
    "    n = int(raw_input())\n",
    "    l=[]\n",
    "    for i in range(1, n+1):\n",
    "        l.append(i)\n",
    "    print(*l, sep='')\n",
    "\n"
   ]
  },
  {
   "cell_type": "markdown",
   "metadata": {},
   "source": [
    "# Exercise 8 - Basic data types - List Comprehensions"
   ]
  },
  {
   "cell_type": "code",
   "execution_count": null,
   "metadata": {},
   "outputs": [],
   "source": [
    "if __name__ == '__main__':\n",
    "    x = int(raw_input())\n",
    "    y = int(raw_input())\n",
    "    z = int(raw_input())\n",
    "    n = int(raw_input())\n",
    "    l = []\n",
    "    for i in range(x+1):\n",
    "        for j in range(y+1):\n",
    "            for k in range(z+1):\n",
    "                if i + j + k != n :\n",
    "                    l.append([i,j,k])\n",
    "    print(l)"
   ]
  },
  {
   "cell_type": "markdown",
   "metadata": {},
   "source": [
    "# Exercise 9 - Basic data types - Find the Runner-Up Score!"
   ]
  },
  {
   "cell_type": "code",
   "execution_count": null,
   "metadata": {},
   "outputs": [],
   "source": [
    "if __name__ == '__main__':\n",
    "    n = int(raw_input())\n",
    "    arr = map(int, raw_input().split())\n",
    "    o = False\n",
    "    for i in range(len(arr)):\n",
    "        if arr[i]>=-100 and arr[i]<= 100:\n",
    "            o = True\n",
    "    l = list(arr)\n",
    "    l.sort(reverse = True)\n",
    "    max = l[0]\n",
    "    if n>=2 and n<=10 and o:\n",
    "        for i in range(len(l)):\n",
    "            if max!=l[i]:\n",
    "                max = l[i]\n",
    "                break\n",
    "    print(max)\n",
    "\n"
   ]
  },
  {
   "cell_type": "markdown",
   "metadata": {},
   "source": [
    "# Exercise 10 - Nested Lists"
   ]
  },
  {
   "cell_type": "code",
   "execution_count": null,
   "metadata": {},
   "outputs": [],
   "source": [
    "if __name__ == '__main__':\n",
    "    l=[]\n",
    "    for _ in range(int(raw_input())):\n",
    "        name = raw_input()\n",
    "        score = float(raw_input())\n",
    "        l.append([name, score])\n",
    "    for i in range(len(l)):\n",
    "        for j in range(len(l)-i-1):\n",
    "            if l[j][1] > l[j+1][1]:\n",
    "                temp = l[j]\n",
    "                l[j] = l[j+1]\n",
    "                l[j+1] = temp\n",
    "    el = l[0][1]\n",
    "    for i in range(1, len(l)):\n",
    "        if l[i][1] > el:\n",
    "            el = l[i][1]\n",
    "            break\n",
    "    low = []\n",
    "    for i in range(len(l)):\n",
    "        if l[i][1] == el:\n",
    "            low.append(l[i])    \n",
    "    if len(low)>=2:\n",
    "        for ele in sorted(low):\n",
    "            print(ele[0])\n",
    "    else:\n",
    "        print(low[0][0])\n",
    "                "
   ]
  },
  {
   "cell_type": "markdown",
   "metadata": {},
   "source": [
    "# Exercise 11 - Basic data types - Finding the percentage"
   ]
  },
  {
   "cell_type": "code",
   "execution_count": null,
   "metadata": {},
   "outputs": [],
   "source": [
    "if __name__ == '__main__':\n",
    "    n = int(raw_input())\n",
    "    if not(n>=2 and n<=10):\n",
    "        exit()\n",
    "    student_marks = {}\n",
    "    for _ in range(n):\n",
    "        line = raw_input().split()\n",
    "        name, scores = line[0], line[1:]\n",
    "        scores = map(float, scores)\n",
    "        student_marks[name] = scores\n",
    "    query_name = raw_input()\n",
    "    l = list(student_marks[query_name]) \n",
    "    sum = 0\n",
    "    for i in range(len(l)):\n",
    "        if not(l[i]>=0 and l[i]<=100):\n",
    "            exit()\n",
    "        sum += l[i]\n",
    "    avg = sum/len(l)\n",
    "    print(\"{0:.2f}\".format(avg))\n"
   ]
  },
  {
   "cell_type": "markdown",
   "metadata": {},
   "source": [
    "# Exercise 12 - Basic data types - Lists"
   ]
  },
  {
   "cell_type": "code",
   "execution_count": null,
   "metadata": {},
   "outputs": [],
   "source": [
    "import random\n",
    "if __name__ == '__main__':\n",
    "    N = int(raw_input())\n",
    "    l = []\n",
    "    for i in range(N):\n",
    "        comm = raw_input().split()\n",
    "        if comm[0] == 'insert':\n",
    "            l.insert(int(comm[1]), int(comm[2]))\n",
    "        elif comm[0] == 'print':\n",
    "            print(l)\n",
    "        elif comm[0] == 'remove':\n",
    "            l.remove (int(comm[1]))\n",
    "        elif comm[0] == 'append':\n",
    "            l.append(int(comm[1]))\n",
    "        elif comm[0] == 'sort':\n",
    "            l.sort()\n",
    "        elif comm[0] == 'pop':\n",
    "            l.pop()\n",
    "        elif comm[0] == 'reverse':\n",
    "            l.reverse()\n",
    "    "
   ]
  },
  {
   "cell_type": "markdown",
   "metadata": {},
   "source": [
    "# Exercise 13 - Basic data types - Tuples"
   ]
  },
  {
   "cell_type": "code",
   "execution_count": null,
   "metadata": {},
   "outputs": [],
   "source": [
    "if __name__ == '__main__':\n",
    "    n = int(raw_input())\n",
    "    integer_list = map(int, raw_input().split())\n",
    "    t = tuple(integer_list)\n",
    "    print(hash(t))\n",
    "\n"
   ]
  },
  {
   "cell_type": "markdown",
   "metadata": {},
   "source": [
    "# Exercise 14 - Strings - sWAP cASE"
   ]
  },
  {
   "cell_type": "code",
   "execution_count": null,
   "metadata": {},
   "outputs": [],
   "source": [
    "def swap_case(s):\n",
    "    new_s = \"\"\n",
    "    for i in range(len(s)):\n",
    "        letter = \"\"\n",
    "        if s[i].islower():\n",
    "            letter = s[i].capitalize()\n",
    "        else:\n",
    "            letter = s[i].lower()\n",
    "        new_s = new_s + letter\n",
    "    \n",
    "    return (new_s)\n",
    "\n"
   ]
  },
  {
   "cell_type": "markdown",
   "metadata": {},
   "source": [
    "# Exercise 15 - Strings - String Split and Join"
   ]
  },
  {
   "cell_type": "code",
   "execution_count": null,
   "metadata": {},
   "outputs": [],
   "source": [
    "def split_and_join(line):\n",
    "    line = line.split(\" \")\n",
    "    line = \"-\".join(line)\n",
    "    return(line)"
   ]
  },
  {
   "cell_type": "markdown",
   "metadata": {},
   "source": [
    "# Exercise 16 - Strings - What's Your Name?"
   ]
  },
  {
   "cell_type": "code",
   "execution_count": null,
   "metadata": {},
   "outputs": [],
   "source": [
    "def print_full_name(a, b):\n",
    "    print ('Hello {} {}! You just delved into python.'.format(a,b))\n"
   ]
  },
  {
   "cell_type": "markdown",
   "metadata": {},
   "source": [
    "# Exercise 17 - Strings - Mutations"
   ]
  },
  {
   "cell_type": "code",
   "execution_count": null,
   "metadata": {},
   "outputs": [],
   "source": [
    "def mutate_string(string, position, character):\n",
    "    l = list(string)\n",
    "    l[position] = character\n",
    "    string = \"\".join(l)\n",
    "    return string"
   ]
  },
  {
   "cell_type": "markdown",
   "metadata": {},
   "source": [
    "# Exercise 18 - Strings - Find a string"
   ]
  },
  {
   "cell_type": "code",
   "execution_count": null,
   "metadata": {},
   "outputs": [],
   "source": [
    "def count_substring(string, sub_string):\n",
    "    t = string\n",
    "    s = sub_string\n",
    "    lt = list(t)\n",
    "    occ = 0\n",
    "    while t.find(s) != -1 :\n",
    "        lt[t.find(s)] = \"0\"\n",
    "        occ += 1\n",
    "        t = \"\".join(lt)\n",
    "    return occ"
   ]
  },
  {
   "cell_type": "markdown",
   "metadata": {},
   "source": [
    "# Exercise 19 - Strings - String Validators"
   ]
  },
  {
   "cell_type": "code",
   "execution_count": null,
   "metadata": {},
   "outputs": [],
   "source": [
    "if __name__ == '__main__':\n",
    "    s = raw_input()\n",
    "    l = list(s)\n",
    "    boo = [False for i in range(0,5)]\n",
    "    if len(s)>0 and len(s)<1000:\n",
    "        for i in range(len(l)):\n",
    "            if l[i].isalnum():\n",
    "                boo[0] = True\n",
    "                break\n",
    "        for i in range(len(l)):\n",
    "            if l[i].isalpha():\n",
    "                boo[1] = True\n",
    "                break\n",
    "        for i in range(len(l)):\n",
    "            if l[i].isdigit():\n",
    "                boo[2] = True\n",
    "                break\n",
    "        for i in range(len(l)):\n",
    "            if l[i].islower():\n",
    "                boo[3] = True\n",
    "                break\n",
    "        for i in range(len(l)):\n",
    "            if l[i].isupper():\n",
    "                boo[4] = True\n",
    "                break\n",
    "        for i in range(len(boo)):\n",
    "            print(boo[i])"
   ]
  },
  {
   "cell_type": "markdown",
   "metadata": {},
   "source": [
    "# Exercise 20 - Strings - Text Alignment"
   ]
  },
  {
   "cell_type": "code",
   "execution_count": null,
   "metadata": {},
   "outputs": [],
   "source": [
    "#Replace all ______ with rjust, ljust or center. \n",
    "\n",
    "thickness = int(input()) #This must be an odd number\n",
    "c = 'H'\n",
    "\n",
    "#Top Cone\n",
    "for i in range(thickness):\n",
    "    print((c*i).rjust(thickness-1)+c+(c*i).ljust(thickness-1))\n",
    "\n",
    "#Top Pillars\n",
    "for i in range(thickness+1):\n",
    "    print((c*thickness).center(thickness*2)+(c*thickness).center(thickness*6))\n",
    "\n",
    "#Middle Belt\n",
    "for i in range((thickness+1)//2):\n",
    "    print((c*thickness*5).center(thickness*6))    \n",
    "\n",
    "#Bottom Pillars\n",
    "for i in range(thickness+1):\n",
    "    print((c*thickness).center(thickness*2)+(c*thickness).center(thickness*6))    \n",
    "\n",
    "#Bottom Cone\n",
    "for i in range(thickness):\n",
    "    print(((c*(thickness-i-1)).rjust(thickness)+c+(c*(thickness-i-1)).ljust(thickness)).rjust(thickness*6))\n",
    "\n"
   ]
  },
  {
   "cell_type": "markdown",
   "metadata": {},
   "source": [
    "# Exercise 21 - Strings - Text Wrap"
   ]
  },
  {
   "cell_type": "code",
   "execution_count": null,
   "metadata": {},
   "outputs": [],
   "source": [
    "def wrap(string, max_width):\n",
    "    if len(string)>0 and len(string)<1000 and max_width>0 and max_width<len(string):\n",
    "        return textwrap.fill(string,max_width)\n"
   ]
  },
  {
   "cell_type": "markdown",
   "metadata": {},
   "source": [
    "# Exercise 22 - Strings - Designer Door Mat"
   ]
  },
  {
   "cell_type": "code",
   "execution_count": null,
   "metadata": {},
   "outputs": [],
   "source": [
    "n, m = map(int, input().split())\n",
    "if n>5 and n<101:\n",
    "    ind = []\n",
    "    for i in range(0,n,2):\n",
    "        ind.append(i+1)\n",
    "    l = []\n",
    "    for i in range(0, n//2):\n",
    "        l.append(\".|.\"*ind[i])\n",
    "    mat = []\n",
    "    for i in range(0, n//2):\n",
    "        mat.append(l[i].center(m,\"-\"))\n",
    "    mat.append(\"WELCOME\".center(m,\"-\"))\n",
    "    l.reverse()\n",
    "    for i in range (0, n//2):\n",
    "        mat.append(l[i].center(m,\"-\"))\n",
    "    for i in range(len(mat)):\n",
    "        print(mat[i])"
   ]
  },
  {
   "cell_type": "markdown",
   "metadata": {},
   "source": [
    "# Exercise 23 - Strings - String Formatting"
   ]
  },
  {
   "cell_type": "code",
   "execution_count": null,
   "metadata": {},
   "outputs": [],
   "source": [
    "def print_formatted(number):\n",
    "    if n>=1 and n<=99:\n",
    "\n",
    "        for i in range(1,n+1):\n",
    "            w = len(bin(n)[2:])\n",
    "            d = str(i)\n",
    "            o = str(oct(i)[2:])\n",
    "            h = str(hex(i)[2:].upper())\n",
    "            b = str(bin(i)[2:])\n",
    "            print( d.rjust(w), o.rjust(w), h.rjust(w), b.rjust(w))"
   ]
  },
  {
   "cell_type": "markdown",
   "metadata": {},
   "source": [
    "# Exercise 24 - Strings - Alphabet Rangoli"
   ]
  },
  {
   "cell_type": "code",
   "execution_count": null,
   "metadata": {},
   "outputs": [],
   "source": [
    "def print_rangoli(size):\n",
    "    if n>0 and n<27:\n",
    "        import string\n",
    "        alphabet = list(string.ascii_lowercase)\n",
    "        l = []\n",
    "        m = []\n",
    "        for i in range(n):\n",
    "            l.append(alphabet[i])\n",
    "            m.append(alphabet[i])\n",
    "        m.reverse()\n",
    "        rangoli = []\n",
    "        halfrangoli1 = []\n",
    "        halfrangoli2 = []\n",
    "        for j in range(n):\n",
    "            halfmiddle1 = \"\"\n",
    "            halfmiddle2 = \"\"\n",
    "            for i in range(n):\n",
    "                halfmiddle1 = halfmiddle1 + m[i] + \"-\"\n",
    "            for i in range(1, n):\n",
    "                halfmiddle2 = halfmiddle2 + l[i] + \"-\"\n",
    "            halfmiddle2 = halfmiddle2[:-1] \n",
    "            halfrangoli1.append(halfmiddle1 + halfmiddle2)\n",
    "            halfrangoli2.append(halfmiddle1 + halfmiddle2) \n",
    "            l.remove(alphabet[j])\n",
    "            m.remove(alphabet[j])\n",
    "            l.append(\"-\")\n",
    "            m.insert(0, \"-\")\n",
    "        halfrangoli2 = halfrangoli2[1:]\n",
    "        halfrangoli2.reverse()\n",
    "        for i in range(len(halfrangoli2)):\n",
    "            rangoli.append(halfrangoli2[i])\n",
    "        for i in range(len(halfrangoli1)):\n",
    "            rangoli.append(halfrangoli1[i])\n",
    "        for i in range(len(rangoli)):\n",
    "            if n==1:\n",
    "                print(alphabet[0])\n",
    "                break\n",
    "            else:\n",
    "                print(rangoli[i])"
   ]
  },
  {
   "cell_type": "markdown",
   "metadata": {},
   "source": [
    "# Exercise 25 - Strings - Capitalize!"
   ]
  },
  {
   "cell_type": "code",
   "execution_count": null,
   "metadata": {},
   "outputs": [],
   "source": [
    "# Complete the solve function below.\n",
    "def solve(s):\n",
    "    s = s.title()\n",
    "    l = list(s)\n",
    "    for i in range(len(s)):\n",
    "        if s[i].isupper() and s[i-1].isdigit():\n",
    "            l[i] = l[i].lower()\n",
    "    s = \"\".join(l)\n",
    "    return s\n"
   ]
  },
  {
   "cell_type": "markdown",
   "metadata": {},
   "source": [
    "# Exercise 26 - Strings - The Minion Game"
   ]
  },
  {
   "cell_type": "markdown",
   "metadata": {},
   "source": [
    "# Exercise 27 - Strings - Merge the Tools!"
   ]
  },
  {
   "cell_type": "code",
   "execution_count": null,
   "metadata": {},
   "outputs": [],
   "source": [
    "def merge_the_tools(string, k):\n",
    "    if len(string)>= 1 and len(string)<=(10**4) and k>=1 and k<=len(string):\n",
    "        t = []\n",
    "        n = len(string)\n",
    "        sep = n//k\n",
    "        for i in range(0, n, k):\n",
    "            t.append(string[i:i+k])\n",
    "        u = []\n",
    "        for ele in t:\n",
    "            m = \"\"\n",
    "            for i in range(len(ele)):\n",
    "                if ele[i] in m:\n",
    "                    continue\n",
    "                else:\n",
    "                    m = m + ele[i]\n",
    "            u.append(m)\n",
    "        for i in u:\n",
    "            print(i)"
   ]
  },
  {
   "cell_type": "markdown",
   "metadata": {},
   "source": [
    "# Exercise 28 - Sets - Introduction to Sets"
   ]
  },
  {
   "cell_type": "code",
   "execution_count": null,
   "metadata": {},
   "outputs": [],
   "source": [
    "def average(array):\n",
    "    return(sum(set(array))/len(set(array)))"
   ]
  },
  {
   "cell_type": "markdown",
   "metadata": {},
   "source": [
    "# Exercise 29 - Sets - No Idea!"
   ]
  },
  {
   "cell_type": "code",
   "execution_count": null,
   "metadata": {},
   "outputs": [],
   "source": [
    "# Enter your code here. Read input from STDIN. Print output to STDOUT\n",
    "n, m = map(int, input().split())\n",
    "ar = list(map(int,input().split()))\n",
    "a = set(list(map(int, input().split())))\n",
    "b = set(list(map(int, input().split())))\n",
    "happiness = 0\n",
    "for i in ar:\n",
    "    if i in a:\n",
    "        happiness +=1\n",
    "    elif i in b:\n",
    "        happiness = happiness - 1\n",
    "print(happiness)\n"
   ]
  },
  {
   "cell_type": "markdown",
   "metadata": {},
   "source": [
    "# Exercise 30 - Sets - Symmetric Difference"
   ]
  },
  {
   "cell_type": "code",
   "execution_count": null,
   "metadata": {},
   "outputs": [],
   "source": [
    "m =int(input()) #4\n",
    "mset =set(list(map(int, input().split()))) #2 4 5 9\n",
    "p =int(input()) #4\n",
    "pset =set(list(map(int, input().split()))) #2 4 11 12\n",
    "fset = sorted(mset.union(pset).difference(mset.intersection(pset)))\n",
    "for i in fset:\n",
    "    print(i)\n"
   ]
  },
  {
   "cell_type": "markdown",
   "metadata": {},
   "source": [
    "# Exercise 31 - Sets - Set .add()"
   ]
  },
  {
   "cell_type": "code",
   "execution_count": null,
   "metadata": {},
   "outputs": [],
   "source": [
    "n = int(input())\n",
    "if n>0 and n<1000:\n",
    "    countries = set()\n",
    "    for i in range(n):\n",
    "        countries.add(input())\n",
    "    print(len(countries))\n"
   ]
  },
  {
   "cell_type": "markdown",
   "metadata": {},
   "source": [
    "# Exercise 32 - Sets - Set .discard(), .remove() & .pop()"
   ]
  },
  {
   "cell_type": "code",
   "execution_count": null,
   "metadata": {},
   "outputs": [],
   "source": [
    "n = int(input())\n",
    "s = set(map(int, input().split()))\n",
    "isittrue = False\n",
    "m = int( input() )\n",
    "for i in range(m):\n",
    "    com = input().split()\n",
    "    if com[0] == \"pop\":\n",
    "        s.pop()\n",
    "    elif com[0] == \"remove\":\n",
    "        s.remove(int(com[1]))\n",
    "    elif com[0] == \"discard\":\n",
    "        s.discard(int(com[1]))\n",
    "print(sum(s))\n"
   ]
  },
  {
   "cell_type": "markdown",
   "metadata": {},
   "source": [
    "# Exercise 33 - Sets - Set .union() Operation"
   ]
  },
  {
   "cell_type": "code",
   "execution_count": null,
   "metadata": {},
   "outputs": [],
   "source": [
    "n = int(input())\n",
    "seng = set (map ( int, input().split()))\n",
    "m = int(input())\n",
    "sfr = set (map (int, input().split()))\n",
    "print (len(seng.union(sfr)))\n"
   ]
  },
  {
   "cell_type": "markdown",
   "metadata": {},
   "source": [
    "# Exercise 34 - Sets - Set .intersection() Operation"
   ]
  },
  {
   "cell_type": "code",
   "execution_count": null,
   "metadata": {},
   "outputs": [],
   "source": [
    "n = int(input())\n",
    "seng = set (map ( int, input().split()))\n",
    "m = int(input())\n",
    "sfr = set (map (int, input().split()))\n",
    "print (len(seng.intersection(sfr)))\n"
   ]
  },
  {
   "cell_type": "markdown",
   "metadata": {},
   "source": [
    "# Exercise 35 - Sets - Set .difference() Operation"
   ]
  },
  {
   "cell_type": "code",
   "execution_count": null,
   "metadata": {},
   "outputs": [],
   "source": [
    "n = int(input())\n",
    "seng = set (map ( int, input().split()))\n",
    "m = int(input())\n",
    "sfr = set (map (int, input().split()))\n",
    "print (len(seng.difference(sfr)))\n"
   ]
  },
  {
   "cell_type": "markdown",
   "metadata": {},
   "source": [
    "# Exercise 36 - Sets - Set .symmetric_difference() Operation"
   ]
  },
  {
   "cell_type": "code",
   "execution_count": null,
   "metadata": {},
   "outputs": [],
   "source": [
    "n = int(input())\n",
    "seng = set (map ( int, input().split()))\n",
    "m = int(input())\n",
    "sfr = set (map (int, input().split()))\n",
    "print (len(seng.symmetric_difference(sfr)))\n"
   ]
  },
  {
   "cell_type": "markdown",
   "metadata": {},
   "source": [
    "# Exercise 37 - Sets - Set Mutations"
   ]
  },
  {
   "cell_type": "code",
   "execution_count": null,
   "metadata": {},
   "outputs": [],
   "source": [
    "n = int(input())\n",
    "a = set (map(int, input().split()))\n",
    "m = int(input())\n",
    "for i in range (m):\n",
    "    (com, r ) = input(). split()\n",
    "    b = set (map( int, input().split()))\n",
    "    if com == \"update\":\n",
    "        a.update(b)\n",
    "    elif com == \"intersection_update\":\n",
    "        a.intersection_update(b)\n",
    "    elif com == \"difference_update\":\n",
    "        a.difference_update(b)\n",
    "    elif com == \"symmetric_difference_update\":\n",
    "        a.symmetric_difference_update(b)\n",
    "print(sum(a))\n"
   ]
  },
  {
   "cell_type": "markdown",
   "metadata": {},
   "source": [
    "# Exercise 38 - Sets - The Captain's Room"
   ]
  },
  {
   "cell_type": "code",
   "execution_count": null,
   "metadata": {},
   "outputs": [],
   "source": [
    "k = int(input())\n",
    "if k>0 and k<1000:\n",
    "    room = list(map (int, input().split()))\n",
    "    sr = set(room)\n",
    "    print((sum(sr)*k - sum(room))//(k-1))\n"
   ]
  },
  {
   "cell_type": "markdown",
   "metadata": {},
   "source": [
    "# Exercise 39 - Sets - Check Subset"
   ]
  },
  {
   "cell_type": "code",
   "execution_count": null,
   "metadata": {},
   "outputs": [],
   "source": [
    "t = int(input())\n",
    "boo =[]\n",
    "if 0<t<21:\n",
    "    for i in range(t):\n",
    "        n = int(input())\n",
    "        a = set (input().split())\n",
    "        m = int(input())\n",
    "        b =set (input().split())\n",
    "        if 0<n<1001 and 0<m<1001 and len(a)==n and len(b)==m:\n",
    "            if a.union(b) == b:\n",
    "                boo.append(True)\n",
    "            else:\n",
    "                boo.append(False)\n",
    "    for i in boo:\n",
    "        print (i)\n"
   ]
  },
  {
   "cell_type": "markdown",
   "metadata": {},
   "source": [
    "# Exercise 40 - Sets - Check Strict Superset"
   ]
  },
  {
   "cell_type": "code",
   "execution_count": null,
   "metadata": {},
   "outputs": [],
   "source": [
    "a = set(input().split())#1 2 3 4 5 6 7 8 9 10 11 12 23 45 84 78\n",
    "n = int(input()) #2\n",
    "s = []\n",
    "es = set()\n",
    "isittrue = []\n",
    "for i in range(n):\n",
    "    s.append(set(input().split()))# 1 2 3 4 5 # 100 11 12int(isittrue) \n",
    "    if s[i] - a == es and len(a)>len(s[i]):\n",
    "        isittrue.append(True)\n",
    "    else:\n",
    "        isittrue.append(False)\n",
    "if False in isittrue:\n",
    "    print (False)\n",
    "else:\n",
    "    print(True)\n",
    "   \n"
   ]
  },
  {
   "cell_type": "markdown",
   "metadata": {},
   "source": [
    "# Exercise 41 - Collections - collections.Counter()"
   ]
  },
  {
   "cell_type": "code",
   "execution_count": null,
   "metadata": {},
   "outputs": [],
   "source": [
    "from collections import Counter\n",
    "x = int(input())\n",
    "shoenum = list(input().split())\n",
    "shoenum = Counter(shoenum)\n",
    "n = int(input())\n",
    "sal = 0\n",
    "customers = []\n",
    "for i in range(n):\n",
    "    shoesize, money = input().split()\n",
    "    if shoenum[shoesize]!=0:\n",
    "        sal = sal + int(money)\n",
    "        shoenum[shoesize] = shoenum[shoesize] -1\n",
    "print (sal)\n",
    "    "
   ]
  },
  {
   "cell_type": "markdown",
   "metadata": {},
   "source": [
    "# Exercise 42 - Collections - DefaultDict Tutorial"
   ]
  },
  {
   "cell_type": "code",
   "execution_count": null,
   "metadata": {},
   "outputs": [],
   "source": [
    "from collections import defaultdict\n",
    "n,m = map(int, input().split())\n",
    "A = defaultdict(list)\n",
    "for i in range(1,n+1):\n",
    "    A[input()].append(str(i))\n",
    "B = [input() for i in range(m)]\n",
    "for ele in B:\n",
    "    if ele in A:\n",
    "            print(\" \".join(A[ele]))\n",
    "    else:\n",
    "        print (-1)\n",
    "\n",
    "    "
   ]
  },
  {
   "cell_type": "markdown",
   "metadata": {},
   "source": [
    "# Exercise 43 - Collections - Collections.namedtuple()"
   ]
  },
  {
   "cell_type": "code",
   "execution_count": null,
   "metadata": {},
   "outputs": [],
   "source": [
    "from collections import namedtuple\n",
    "n = int(input())\n",
    "column = \",\".join(input().split())\n",
    "Wesley = namedtuple(\"Wesley\", column)\n",
    "grade = 0\n",
    "for i in range(n):\n",
    "    i, mark, name, c = input().split()\n",
    "    student = Wesley(i,mark,name,c)\n",
    "    grade = grade + int(student.MARKS)\n",
    "print(grade/n)\n"
   ]
  },
  {
   "cell_type": "markdown",
   "metadata": {},
   "source": [
    "# Exercise 44 - Collections - Collections.OrderedDict()"
   ]
  },
  {
   "cell_type": "code",
   "execution_count": null,
   "metadata": {},
   "outputs": [],
   "source": [
    "from collections import OrderedDict\n",
    "n = int(input())\n",
    "supermarket = OrderedDict()\n",
    "for i in range(n):\n",
    "    item= input().split(\" \") #because banana fries is two i split all in one \n",
    "    price = int(item[-1])# i seperate the number\n",
    "    item[-1]= \"\" #i erase the number\n",
    "    item = \" \".join(item) #i make it a string again\n",
    "    item = item.strip() # and i eliminate the resting space\n",
    "    supermarket[item] = supermarket.get(item,0) + price #i add the \"new\" price to the value that already exist in the dictionary\n",
    "for item, price in supermarket.items():\n",
    "    print(item, price)\n",
    "    "
   ]
  },
  {
   "cell_type": "markdown",
   "metadata": {},
   "source": [
    "# Exercise 45 - Collections - Word Order"
   ]
  },
  {
   "cell_type": "code",
   "execution_count": null,
   "metadata": {},
   "outputs": [],
   "source": [
    "from collections import OrderedDict\n",
    "n = int(input())\n",
    "tbp = \"\"\n",
    "word = OrderedDict()\n",
    "for i in range(n):\n",
    "    line = input()\n",
    "    word[line] = word.get(line,0) + 1\n",
    "for item, occ in word.items():\n",
    "    tbp = tbp + str(occ) + \" \"\n",
    "print(len(word))\n",
    "print(tbp)"
   ]
  },
  {
   "cell_type": "markdown",
   "metadata": {},
   "source": [
    "# Exercise 46 - Collections - Collections.deque()"
   ]
  },
  {
   "cell_type": "code",
   "execution_count": null,
   "metadata": {},
   "outputs": [],
   "source": [
    "from collections import deque\n",
    "n = int(input())\n",
    "d = deque()\n",
    "tbp = \"\"\n",
    "command = \"\"\n",
    "for i in range(n):\n",
    "    command = input().split()\n",
    "    if command[0] == \"append\":\n",
    "        d.append(command[1])\n",
    "    elif command[0] == \"pop\":\n",
    "        d.pop()\n",
    "    elif command[0] == \"popleft\":\n",
    "        d.popleft()\n",
    "    elif command[0] == \"appendleft\":\n",
    "        d.appendleft(command[1])\n",
    "for i in d:\n",
    "    tbp = tbp + i + \" \"\n",
    "\n",
    "print(tbp)"
   ]
  },
  {
   "cell_type": "markdown",
   "metadata": {},
   "source": [
    "# Exercise 47 - Collections - Company Logo"
   ]
  },
  {
   "cell_type": "code",
   "execution_count": null,
   "metadata": {},
   "outputs": [],
   "source": [
    "from collections import Counter \n",
    "from collections import OrderedDict\n",
    "s =input()\n",
    "k = Counter(sorted(s))\n",
    "l = k.most_common(3)\n",
    "for i in range(3):\n",
    "    print(l[i][0], l[i][1])"
   ]
  },
  {
   "cell_type": "markdown",
   "metadata": {},
   "source": [
    "# Exercise 48 - Collections - Piling Up!"
   ]
  },
  {
   "cell_type": "markdown",
   "metadata": {},
   "source": [
    "# Exercise 49 - Date time - Calendar Module"
   ]
  },
  {
   "cell_type": "code",
   "execution_count": null,
   "metadata": {},
   "outputs": [],
   "source": [
    "import calendar\n",
    "date = list(map(int, input().split()))\n",
    "if 2000<date[2]<3000 :\n",
    "    day = calendar.weekday(date[2], date[0], date[1])\n",
    "    print(list(calendar.day_name)[day].upper())\n"
   ]
  },
  {
   "cell_type": "markdown",
   "metadata": {},
   "source": [
    "# Exercise 50 - Date time - Time Delta"
   ]
  },
  {
   "cell_type": "code",
   "execution_count": null,
   "metadata": {},
   "outputs": [],
   "source": [
    "#!/bin/python3\n",
    "\n",
    "import math\n",
    "import os\n",
    "import random\n",
    "import re\n",
    "import sys\n",
    "\n",
    "# Complete the time_delta function below.\n",
    "def time_delta(t1, t2):\n",
    "    from datetime import datetime\n",
    "    fmt = \"%a %d %b %Y %H:%M:%S %z\"\n",
    "    delta = str(int(abs((datetime.strptime(t1,fmt)-datetime.strptime(t2, fmt)).total_seconds())))\n",
    "    return delta\n",
    "\n",
    "if __name__ == '__main__':\n",
    "    fptr = open(os.environ['OUTPUT_PATH'], 'w')\n",
    "\n",
    "    t = int(input())\n",
    "\n",
    "    for t_itr in range(t):\n",
    "        t1 = input()\n",
    "\n",
    "        t2 = input()\n",
    "\n",
    "        delta = time_delta(t1, t2)\n",
    "\n",
    "        fptr.write(delta + '\\n')\n",
    "\n",
    "    fptr.close()\n"
   ]
  },
  {
   "cell_type": "markdown",
   "metadata": {},
   "source": [
    "# Exercise 51 - Exceptions - "
   ]
  },
  {
   "cell_type": "code",
   "execution_count": null,
   "metadata": {},
   "outputs": [],
   "source": [
    "t = int(input())\n",
    "l = []\n",
    "for i in range(t):\n",
    "    l.append(input().split())\n",
    "for i in range(len(l)):\n",
    "    try:\n",
    "        print (int(l[i][0])//int(l[i][1]))\n",
    "    except ZeroDivisionError as e:\n",
    "        print (\"Error Code:\",e)\n",
    "    except ValueError as v:\n",
    "        print (\"Error Code:\",v)\n"
   ]
  },
  {
   "cell_type": "markdown",
   "metadata": {},
   "source": [
    "# Exercise 52 - Built-ins - Zipped!"
   ]
  },
  {
   "cell_type": "code",
   "execution_count": null,
   "metadata": {},
   "outputs": [],
   "source": [
    "n, x = map(int,input().split())\n",
    "subject = []\n",
    "for i in range(x):\n",
    "    subject.append(input().split())\n",
    "student = list(zip(*subject))\n",
    "for i in range(n):\n",
    "    print(sum(map(float,list(student[i])))/len(student[i]))"
   ]
  },
  {
   "cell_type": "markdown",
   "metadata": {},
   "source": [
    "# Exercise 53 - Built-ins - Athlete Sort"
   ]
  },
  {
   "cell_type": "code",
   "execution_count": null,
   "metadata": {},
   "outputs": [],
   "source": [
    "n, m = map(int, input().split())\n",
    "att = []\n",
    "tbprinted = []\n",
    "for i in range(n):\n",
    "    att.append(list(map(int,input().split())))\n",
    "k = int(input())\n",
    "att = sorted(att, key = lambda x:x[k])# sort the list with key basically the kth column\n",
    "for i in range(n):\n",
    "    for j in  range(m):\n",
    "        att[i][j] = str(att[i][j])\n",
    "for i in range(n):\n",
    "    print(\" \".join(att[i]))"
   ]
  },
  {
   "cell_type": "markdown",
   "metadata": {},
   "source": [
    "# Exercise 54 - Built-ins - Ginorts"
   ]
  },
  {
   "cell_type": "code",
   "execution_count": null,
   "metadata": {},
   "outputs": [],
   "source": [
    "s = input()\n",
    "lower = []\n",
    "upper = []\n",
    "odd = []\n",
    "even = []\n",
    "for i in range(len(s)):\n",
    "    if s[i].islower():\n",
    "        lower.append(s[i])\n",
    "    elif s[i].isupper():\n",
    "        upper.append(s[i])\n",
    "    elif s[i].isdigit():\n",
    "        if int(s[i])%2 == 1:\n",
    "            odd.append(int(s[i]))\n",
    "        else:\n",
    "            even.append(int(s[i])) \n",
    "odd = map(str, odd)\n",
    "even = map(str, even)\n",
    "lower = \"\".join(sorted(lower))\n",
    "upper = \"\".join(sorted(upper))\n",
    "odd = \"\".join(sorted(odd))\n",
    "even = \"\".join(sorted(even))\n",
    "print(lower+upper+odd+even)"
   ]
  },
  {
   "cell_type": "markdown",
   "metadata": {},
   "source": [
    "# Exercise 55 - Map and lambda function"
   ]
  },
  {
   "cell_type": "code",
   "execution_count": null,
   "metadata": {},
   "outputs": [],
   "source": [
    "cube = lambda x: x**3\n",
    "\n",
    "def fibonacci(n):\n",
    "    f = [0,1]\n",
    "    for i in range(2, n):\n",
    "        f.append(f[i-1] + f[i-2])\n",
    "    return (f[:n])"
   ]
  },
  {
   "cell_type": "markdown",
   "metadata": {},
   "source": [
    "# Exercise 56 - Regex - Detect Floating Point Number"
   ]
  },
  {
   "cell_type": "code",
   "execution_count": null,
   "metadata": {},
   "outputs": [],
   "source": [
    "import re\n",
    "n = int(input())\n",
    "if 0<n<10:\n",
    "    string = []\n",
    "    boo = []\n",
    "    pattern1 = \"^[-, +, .][0-9]*$\"\n",
    "    pattern2 = \"^[0-9]*$\"\n",
    "    for i in range(n):\n",
    "        string.append(input().split(\".\") ) \n",
    "        if len(string[i])!=2:\n",
    "                  boo.append(False)\n",
    "        elif (bool(re.match(pattern1, string[i][0]))or bool(re.match(pattern2,string[i][0]))) and len(string[i][1])>=1 and string[i][1].isdigit():\n",
    "                  boo.append(True)\n",
    "        else:\n",
    "                  boo.append(False)\n",
    "    for i in boo:\n",
    "        print(i)"
   ]
  },
  {
   "cell_type": "markdown",
   "metadata": {},
   "source": [
    "# Exercise 57 - Regex - Re.split()"
   ]
  },
  {
   "cell_type": "code",
   "execution_count": null,
   "metadata": {},
   "outputs": [],
   "source": [
    "regex_pattern = r\"{}\".format([\",\",\".\"])"
   ]
  },
  {
   "cell_type": "markdown",
   "metadata": {},
   "source": [
    "# Exercise 58 - Regex - Group(), Groups() & Groupdict()"
   ]
  },
  {
   "cell_type": "code",
   "execution_count": null,
   "metadata": {},
   "outputs": [],
   "source": [
    "import re\n",
    "s = input()\n",
    "if 0<len(s)<100:\n",
    "    m = re.search(r'([a-zA-Z0-9])\\1+', s)\n",
    "    if m:\n",
    "        print(m.group(1))\n",
    "    else:\n",
    "        print(-1)\n"
   ]
  },
  {
   "cell_type": "markdown",
   "metadata": {},
   "source": [
    "# Exercise 59 - Regex - Re.findall() & Re.finditer()"
   ]
  },
  {
   "cell_type": "code",
   "execution_count": null,
   "metadata": {},
   "outputs": [],
   "source": [
    "import re\n",
    "s = input()\n",
    "matches = re.findall(r'([^a,e, i, o, u]*?)([a,e,o,i,u][a,e,o,i,u]+)([^a,e, i, o, u])', s, flags = re.IGNORECASE)\n",
    "if len(matches)==0:\n",
    "    print(-1)\n",
    "for match in matches:\n",
    "        print(match[1])"
   ]
  },
  {
   "cell_type": "markdown",
   "metadata": {},
   "source": [
    "# Exercise 60 - Regex - Re.start() & Re.end()"
   ]
  },
  {
   "cell_type": "code",
   "execution_count": null,
   "metadata": {},
   "outputs": [],
   "source": [
    "import re\n",
    "s = input()\n",
    "k = input()\n",
    "pattern = re.compile(k)\n",
    "#true or false αναλογως αν θα βρει το k\n",
    "m = pattern.search(s)\n",
    "if not m: print((-1,-1)) #αν δεν το βρει \n",
    "while m: #αν το βρει κανω while σε περιπτωση που υπαρχει περισσοτερες φορες\n",
    "    print((m.start(),m.end()-1))\n",
    "    m = pattern.search(s, m.start()+1)"
   ]
  },
  {
   "cell_type": "markdown",
   "metadata": {},
   "source": [
    "# Exercise 61 - Regex - Regex Substitution"
   ]
  },
  {
   "cell_type": "code",
   "execution_count": null,
   "metadata": {},
   "outputs": [],
   "source": [
    "import re\n",
    "n = int(input())\n",
    "string = ''\n",
    "for i in range(n):\n",
    "    string = string + input() +'\\n'\n",
    "string = re.sub(r'(?<=\\s)&&(?=\\s)',r'and', string)\n",
    "print(re.sub(r'(?<=\\s)[|]{2}(?=\\s)', r'or', string))"
   ]
  },
  {
   "cell_type": "markdown",
   "metadata": {},
   "source": [
    "# Exercise 62 - Regex - Validating Roman Numerals"
   ]
  },
  {
   "cell_type": "code",
   "execution_count": null,
   "metadata": {},
   "outputs": [],
   "source": [
    "regex_pattern =  r\"(M{0,3})(C[MD]|D?C{0,3})(X[LC]|L?X{0,3})(I[VX]|V?I{0,3})$\"\n"
   ]
  },
  {
   "cell_type": "markdown",
   "metadata": {},
   "source": [
    "# Exercise 63 - Regex - Validating phone numbers"
   ]
  },
  {
   "cell_type": "code",
   "execution_count": null,
   "metadata": {},
   "outputs": [],
   "source": [
    "import re\n",
    "n = int(input())\n",
    "l = []\n",
    "matches = []\n",
    "pattern = re.compile(r'^[789]\\d\\d\\d\\d\\d\\d\\d\\d\\d$')\n",
    "for i in range(n):\n",
    "    l.append(input())#list of strings\n",
    "    matches.append(pattern.match(l[i]))\n",
    "for match in matches:\n",
    "    if match == None:\n",
    "        print(\"NO\")\n",
    "    else:\n",
    "        print(\"YES\")"
   ]
  },
  {
   "cell_type": "markdown",
   "metadata": {},
   "source": [
    "# Exercise 64 - Regex - Validating and Parsing Email Addresses"
   ]
  },
  {
   "cell_type": "code",
   "execution_count": null,
   "metadata": {},
   "outputs": [],
   "source": [
    "import re\n",
    "n = int(input())\n",
    "l = []\n",
    "pattern = re.compile(r'^<[a-zA-Z0-9][a-zA-Z0-9\\_\\-\\.]+@[a-zA-Z]+\\.[a-zA-Z]{1,3}>$')\n",
    "matches = [] \n",
    "tbprint = []\n",
    "for i in range(n):\n",
    "    l.append(input().split())\n",
    "    if bool(re.match(pattern,l[i][1])):\n",
    "        tbprint.append(\" \".join(l[i]))\n",
    "for i in range(len(tbprint)):\n",
    "    print(tbprint[i]\n",
    "         )"
   ]
  },
  {
   "cell_type": "markdown",
   "metadata": {},
   "source": [
    "# Exercise 65 - Regex - Hex Color Code"
   ]
  },
  {
   "cell_type": "code",
   "execution_count": null,
   "metadata": {},
   "outputs": [],
   "source": [
    "import re\n",
    "isitincss = False\n",
    "n = int(input())\n",
    "for i in range(n):\n",
    "    s = input()\n",
    "    if \"{\" in s:\n",
    "        isitincss = True\n",
    "    elif \"}\" in s:\n",
    "        isitincss = False\n",
    "    elif isitincss:\n",
    "        matches = re.findall(r'#{1}[a-fA-F0-9]{6}|#{1}[a-fA-F0-9]{3}',s)\n",
    "        for match in matches:\n",
    "            print(match)"
   ]
  },
  {
   "cell_type": "markdown",
   "metadata": {},
   "source": [
    "# Exercise 66 - Regex - HTML Parser - Part 1"
   ]
  },
  {
   "cell_type": "code",
   "execution_count": null,
   "metadata": {},
   "outputs": [],
   "source": [
    "from html.parser import HTMLParser\n",
    "n = int(input())\n",
    "html = \"\"\n",
    "for i in range(n):\n",
    "    html = html +input()+\"\\n\"\n",
    "class MyHTMLParser(HTMLParser):\n",
    "    def handle_starttag(self, tag, attrs):\n",
    "        print (\"Start :\", tag)\n",
    "        if len(attrs)>0:\n",
    "            for i in range(len(attrs)):\n",
    "                print (\"->\", attrs[i][0], \">\", attrs[i][1])\n",
    "    def handle_endtag(self, tag):\n",
    "        print (\"End   :\", tag)\n",
    "    def handle_startendtag(self, tag, attrs):\n",
    "        print (\"Empty :\", tag)\n",
    "        if len(attrs)>0:\n",
    "            for i in range(len(attrs)):\n",
    "                print (\"->\", attrs[i][0], \">\", attrs[i][1])\n",
    "\n",
    "parser = MyHTMLParser()\n",
    "parser.feed(html)"
   ]
  },
  {
   "cell_type": "markdown",
   "metadata": {},
   "source": [
    "# Exercise 67 - Regex - HTML Parser - Part 2"
   ]
  },
  {
   "cell_type": "code",
   "execution_count": null,
   "metadata": {},
   "outputs": [],
   "source": [
    "from html.parser import HTMLParser\n",
    "n = int(input())\n",
    "html = \"\"\n",
    "for i in range(n):\n",
    "    html = html +input()+\"\\n\"\n",
    "class MyHTMLParser(HTMLParser):\n",
    "    def handle_data(self, data):\n",
    "        if data.strip():\n",
    "            print (\">>> Data\")\n",
    "            print(data)\n",
    "    def handle_comment(self, data):\n",
    "        if data.strip():\n",
    "            if len(data.split(\"\\n\"))>1:\n",
    "                print(\">>> Multi-line Comment\")\n",
    "                print(data)\n",
    "            else:\n",
    "                print(\">>> Single-line Comment\")\n",
    "                print(data)\n",
    "\n",
    "parser = MyHTMLParser()\n",
    "parser.feed(html)"
   ]
  },
  {
   "cell_type": "markdown",
   "metadata": {},
   "source": [
    "# Exercise 68 - Regex - Detect HTML Tags, Attributes and Attribute Values"
   ]
  },
  {
   "cell_type": "code",
   "execution_count": null,
   "metadata": {},
   "outputs": [],
   "source": [
    "from html.parser import HTMLParser\n",
    "n = int(input())\n",
    "html = \"\"\n",
    "for i in range(n):\n",
    "    html = html +input()+\"\\n\"\n",
    "class MyHTMLParser(HTMLParser):\n",
    "    def handle_starttag(self, tag, attrs):\n",
    "        print (tag)\n",
    "        if len(attrs)>0:\n",
    "            for i in range(len(attrs)):\n",
    "                print (\"->\", attrs[i][0], \">\", attrs[i][1])\n",
    "parser = MyHTMLParser()\n",
    "parser.feed(html)\n"
   ]
  },
  {
   "cell_type": "markdown",
   "metadata": {},
   "source": [
    "# Exercise 69 - Regex - Validating UID"
   ]
  },
  {
   "cell_type": "code",
   "execution_count": null,
   "metadata": {},
   "outputs": [],
   "source": [
    "import re\n",
    "uid = \"\"\n",
    "t = int(input())\n",
    "for i in range(t):\n",
    "    uid = input()\n",
    "    if bool(re.search(r'(.*[A-Z]){2,}', uid)) and bool(re.search(r'(.*[0-9]){3,}', uid)) and uid.isalnum() and (not bool(re.search(r'(.).*\\1', uid))) and len(uid) == 10:\n",
    "        print(\"Valid\")\n",
    "    else:\n",
    "        print(\"Invalid\")\n"
   ]
  },
  {
   "cell_type": "markdown",
   "metadata": {},
   "source": [
    "# Exercise 70 - Regex - Validating Credit Card Numbers"
   ]
  },
  {
   "cell_type": "code",
   "execution_count": null,
   "metadata": {},
   "outputs": [],
   "source": [
    "import re \n",
    "n = int(input())\n",
    "ccn = ''\n",
    "for i in range(n):\n",
    "    ccn = input()\n",
    "    if bool(re.match(r'^[456][0-9]{3}[-]?[0-9]{4}[-]?[0-9]{4}[-]?[0-9]{4}$', ccn)) and (not bool(re.search(r'(\\d)(-|\\1){4}',ccn))):\n",
    "        print(\"Valid\")\n",
    "    else:\n",
    "        print(\"Invalid\")"
   ]
  },
  {
   "cell_type": "markdown",
   "metadata": {},
   "source": [
    "# Exercise 71 - Regex - Validating Postal Codes"
   ]
  },
  {
   "cell_type": "code",
   "execution_count": null,
   "metadata": {},
   "outputs": [],
   "source": [
    "regex_integer_in_range = r\"^[1-9]\\d\\d\\d\\d\\d$\"\t# Do not delete 'r'.\n",
    "regex_alternating_repetitive_digit_pair = r\"(\\d)(?=\\d\\1)\"\t# Do not delete 'r'.\n"
   ]
  },
  {
   "cell_type": "markdown",
   "metadata": {},
   "source": [
    "# Exercise 72 - Regex - Matrix Script"
   ]
  },
  {
   "cell_type": "code",
   "execution_count": null,
   "metadata": {},
   "outputs": [],
   "source": [
    "#!/bin/python3\n",
    "\n",
    "import math\n",
    "import os\n",
    "import random\n",
    "import re\n",
    "import sys\n",
    "\n",
    "\n",
    "\n",
    "\n",
    "first_multiple_input = input().rstrip().split()\n",
    "\n",
    "n = int(first_multiple_input[0])\n",
    "\n",
    "m = int(first_multiple_input[1])\n",
    "\n",
    "matrix = []\n",
    "\n",
    "for _ in range(n):\n",
    "    matrix_item = input()\n",
    "    matrix.append(matrix_item)\n",
    "neo = \"\"\n",
    "for i in range(m):\n",
    "    for j in range(n):\n",
    "        neo = neo + matrix[j][i]\n",
    "neo = re.sub(r'(?<=\\w)([!@#%&$]+)',r' ', neo)\n",
    "neo = re.sub(r'([!@#%&$]+)(?=\\w)', r' ', neo)\n",
    "print(neo)"
   ]
  },
  {
   "cell_type": "markdown",
   "metadata": {},
   "source": [
    "# Exercise 73 - Xml - XML 1 - Find the Score"
   ]
  },
  {
   "cell_type": "code",
   "execution_count": null,
   "metadata": {},
   "outputs": [],
   "source": [
    "def get_attr_number(node):\n",
    "    temp = 0\n",
    "    for i in tree.iter(): # iterate though the tree for every element\n",
    "            temp += len(i.attrib)#the method attrib is a dictionary that contains the elements(here i) attribute. so we need its length to understand how many attrbutes i has\n",
    "    return(temp)"
   ]
  },
  {
   "cell_type": "markdown",
   "metadata": {},
   "source": [
    "# Exercise 74 - Xml - XML 2 - Find the Maximum Depth"
   ]
  },
  {
   "cell_type": "code",
   "execution_count": null,
   "metadata": {},
   "outputs": [],
   "source": [
    "maxdepth = 0\n",
    "def depth(elem, level):\n",
    "    global maxdepth\n",
    "    level+=1 #we're already in a new level \n",
    "    if len(elem)>0: #if there are other levels \n",
    "        for child in elem: #for every one see if there is another for them (calling again the function)\n",
    "            depth(child,level)\n",
    "    else: #if the if statement is not true then we run out of level so it's time to print the final depth\n",
    "        if maxdepth<level: \n",
    "            maxdepth = level\n",
    "    return maxdepth"
   ]
  },
  {
   "cell_type": "markdown",
   "metadata": {},
   "source": [
    "# Exercise 75 - Closures and decorators - Standardize Mobile Number Using Decorators"
   ]
  },
  {
   "cell_type": "code",
   "execution_count": null,
   "metadata": {},
   "outputs": [],
   "source": [
    "def wrapper(f):\n",
    "    def fun(l):\n",
    "        ret = []\n",
    "        for ele in l:\n",
    "            if ele[0] == \"+\" and ele[1] == \"9\" and ele[2] == \"1\" and len(ele) == 13:\n",
    "                ele = ele[:3] + \" \" + ele[3:8] + \" \" + ele[8:]\n",
    "                ret.append(ele)\n",
    "                continue\n",
    "            elif ele[0] == \"9\" and ele[1] == \"1\" and len(ele) == 12:\n",
    "                ele = \"+\" + ele\n",
    "            elif ele[0] == \"0\" and len(ele) == 11:\n",
    "                ele = \"+91\" + ele[1:]\n",
    "            elif len(ele) == 10:\n",
    "                ele = \"+91\" + ele\n",
    "            ele = ele[:3] + \" \" + ele[3:8] + \" \" + ele[8:]\n",
    "            ret.append(ele)\n",
    "        res = f(ret)\n",
    "        return res\n",
    "        # complete the function\n",
    "    return fun\n",
    "\n",
    "@wrapper\n",
    "def sort_phone(l):\n",
    "    print(*sorted(l), sep='\\n')\n",
    "\n",
    "if __name__ == '__main__':\n",
    "    l = [input() for _ in range(int(input()))]\n",
    "    sort_phone(l) "
   ]
  },
  {
   "cell_type": "markdown",
   "metadata": {},
   "source": [
    "# Exercise 76 - Closures and decorators - Decorators 2 - Name Directory"
   ]
  },
  {
   "cell_type": "code",
   "execution_count": null,
   "metadata": {},
   "outputs": [],
   "source": [
    "import operator\n",
    "from operator import itemgetter\n",
    "\n",
    "def person_lister(f):\n",
    "    def inner(people):\n",
    "        people = sorted(people,key = lambda x: int(x[2]))\n",
    "        return map(f,people)\n",
    "    return inner\n",
    "\n",
    "@person_lister\n",
    "def name_format(person):\n",
    "    return (\"Mr. \" if person[3] == \"M\" else \"Ms. \") + person[0] + \" \" + person[1]\n",
    "\n",
    "if __name__ == '__main__':\n",
    "    people = [input().split() for i in range(int(input()))]\n",
    "    print(*name_format(people), sep='\\n')"
   ]
  },
  {
   "cell_type": "markdown",
   "metadata": {},
   "source": [
    "# Exercise 77 - Numpy - Arrays"
   ]
  },
  {
   "cell_type": "code",
   "execution_count": null,
   "metadata": {},
   "outputs": [],
   "source": [
    "import numpy\n",
    "\n",
    "def arrays(arr):\n",
    "    arr = list(reversed(arr))\n",
    "    a = numpy.array(arr, float)\n",
    "    return a\n",
    "    # complete this function\n",
    "    # use numpy.array\n",
    "\n",
    "arr = input().strip().split(' ')\n",
    "result = arrays(arr)\n",
    "print(result)"
   ]
  },
  {
   "cell_type": "markdown",
   "metadata": {},
   "source": [
    "# Exercise 78 - Numpy - Shape and Reshape"
   ]
  },
  {
   "cell_type": "code",
   "execution_count": null,
   "metadata": {},
   "outputs": [],
   "source": [
    "import numpy as np\n",
    "l = list(map(int, input().split()))\n",
    "l = np.array(l)\n",
    "l.shape = (3,3)\n",
    "print(l)"
   ]
  },
  {
   "cell_type": "markdown",
   "metadata": {},
   "source": [
    "# Exercise 79 - Numpy - Transpose and Flatten"
   ]
  },
  {
   "cell_type": "code",
   "execution_count": null,
   "metadata": {},
   "outputs": [],
   "source": [
    "import numpy as np\n",
    "n, m  = map(int, input().split())\n",
    "l = [list(map(int,input().split())) for i in range(n)]\n",
    "a = np.array(l)\n",
    "print(np.transpose(a))\n",
    "print(a.flatten())\n"
   ]
  },
  {
   "cell_type": "markdown",
   "metadata": {},
   "source": [
    "# Exercise 80 - Numpy - Concatenate"
   ]
  },
  {
   "cell_type": "code",
   "execution_count": null,
   "metadata": {},
   "outputs": [],
   "source": [
    "import numpy as np\n",
    "n,m,p = map(int, input().split())\n",
    "l = [list(map(int,input().split())) for i in range(n)]\n",
    "k = [list(map(int, input().split())) for i in range (m)]\n",
    "print(np.concatenate((np.array(l), np.array(k))))"
   ]
  },
  {
   "cell_type": "markdown",
   "metadata": {},
   "source": [
    "# Exercise 81 - Numpy - Zeros and Ones"
   ]
  },
  {
   "cell_type": "code",
   "execution_count": null,
   "metadata": {},
   "outputs": [],
   "source": [
    "import numpy as np \n",
    "nums = tuple(map(int, input().split()))\n",
    "print (np.zeros(nums,int))\n",
    "print (np.ones(nums, int))"
   ]
  },
  {
   "cell_type": "markdown",
   "metadata": {},
   "source": [
    "# Exercise 82 - Numpy - Eye and Identity"
   ]
  },
  {
   "cell_type": "code",
   "execution_count": null,
   "metadata": {},
   "outputs": [],
   "source": [
    "import numpy as np\n",
    "n, m = map(int, input().split())\n",
    "np.set_printoptions(sign=' ')\n",
    "print(np.eye(n,m))"
   ]
  },
  {
   "cell_type": "markdown",
   "metadata": {},
   "source": [
    "# Exercise 83 - Numpy - Array Mathematics"
   ]
  },
  {
   "cell_type": "code",
   "execution_count": null,
   "metadata": {},
   "outputs": [],
   "source": [
    "import numpy as np\n",
    "n,m = map(int, input().split())\n",
    "A = np.array([list(map(int,input().split())) for i in range(n)])\n",
    "B = np.array([list(map(int,input().split())) for i in range(n)])\n",
    "print (A + B)\n",
    "print (A - B)\n",
    "print (A * B)\n",
    "print (A // B)\n",
    "print (A % B)\n",
    "print (A ** B)"
   ]
  },
  {
   "cell_type": "markdown",
   "metadata": {},
   "source": [
    "# Exercise 84 - Numpy - Floor, Ceil and Rint"
   ]
  },
  {
   "cell_type": "code",
   "execution_count": null,
   "metadata": {},
   "outputs": [],
   "source": [
    "import numpy as np\n",
    "A = list(map(float,input().split()))\n",
    "np.set_printoptions(sign=' ')\n",
    "A = np.array(A)\n",
    "print(np.floor(A))\n",
    "print(np.ceil(A))\n",
    "print(np.rint(A))"
   ]
  },
  {
   "cell_type": "markdown",
   "metadata": {},
   "source": [
    "# Exercise 85 - Numpy - Sum and Prod"
   ]
  },
  {
   "cell_type": "code",
   "execution_count": null,
   "metadata": {},
   "outputs": [],
   "source": [
    "import numpy as np\n",
    "n,m  = map(int, input().split())\n",
    "A = np.array([list(map(int, input().split())) for i in range(n)])\n",
    "print (np.prod(np.array(np.sum(A,axis = 0))))"
   ]
  },
  {
   "cell_type": "markdown",
   "metadata": {},
   "source": [
    "# Exercise 86 - Numpy - Min and Max"
   ]
  },
  {
   "cell_type": "code",
   "execution_count": null,
   "metadata": {},
   "outputs": [],
   "source": [
    "import numpy as np \n",
    "n, m = map(int, input().split())\n",
    "A = np.array([list(map(int ,input().split())) for i in range(n)])\n",
    "print(np.max(np.array(np.min(A, axis = 1))))"
   ]
  },
  {
   "cell_type": "markdown",
   "metadata": {},
   "source": [
    "# Exercise 87 - Numpy - Mean, Var, and Std"
   ]
  },
  {
   "cell_type": "code",
   "execution_count": null,
   "metadata": {},
   "outputs": [],
   "source": [
    "import numpy as np\n",
    "n,m = map(int, input().split())\n",
    "A = np.array([list(map(int, input().split()))for i in range(n)])\n",
    "np.set_printoptions(legacy='1.13')\n",
    "print ( np.mean(A, axis = 1))\n",
    "print(np.var (A, axis = 0))\n",
    "print(np.std(A))"
   ]
  },
  {
   "cell_type": "markdown",
   "metadata": {},
   "source": [
    "# Exercise 88 - Numpy - Dot and Cross"
   ]
  },
  {
   "cell_type": "code",
   "execution_count": null,
   "metadata": {},
   "outputs": [],
   "source": [
    "import numpy as np\n",
    "n = int(input())\n",
    "A = np.array([list(map(int, input().split())) for i in range(n)])\n",
    "B = np.array([list(map(int, input().split())) for i in range(n)])\n",
    "C = np.dot(A, B)\n",
    "print(C)"
   ]
  },
  {
   "cell_type": "markdown",
   "metadata": {},
   "source": [
    "# Exercise 89 - Numpy - Inner and Outer"
   ]
  },
  {
   "cell_type": "code",
   "execution_count": null,
   "metadata": {},
   "outputs": [],
   "source": [
    "import numpy as np\n",
    "A = np.array(list(map(int, input().split())))\n",
    "B = np.array(list(map(int, input().split())))\n",
    "print (np.inner(A,B))\n",
    "print (np.outer(A,B))"
   ]
  },
  {
   "cell_type": "markdown",
   "metadata": {},
   "source": [
    "# Exercise 90 - Numpy - Polynomials"
   ]
  },
  {
   "cell_type": "code",
   "execution_count": null,
   "metadata": {},
   "outputs": [],
   "source": [
    "import numpy as np\n",
    "P = list(map(float, input().split()))\n",
    "x = float(input())\n",
    "print(np.polyval(P, x))"
   ]
  },
  {
   "cell_type": "markdown",
   "metadata": {},
   "source": [
    "# Exercise 91 - Numpy - Linear Algebra"
   ]
  },
  {
   "cell_type": "code",
   "execution_count": null,
   "metadata": {},
   "outputs": [],
   "source": [
    "import numpy as np\n",
    "n = int(input())\n",
    "A = np.array([list(map(float,input().split())) for i in range(n)])\n",
    "print(np.around(np.linalg.det(A), decimals = 2))"
   ]
  },
  {
   "cell_type": "markdown",
   "metadata": {},
   "source": [
    "# ===== PROBLEM2 ====="
   ]
  },
  {
   "cell_type": "markdown",
   "metadata": {},
   "source": [
    "# Exercise 92 - Challenges - Birthday Cake Candles"
   ]
  },
  {
   "cell_type": "code",
   "execution_count": null,
   "metadata": {},
   "outputs": [],
   "source": [
    "#!/bin/python3\n",
    "\n",
    "import math\n",
    "import os\n",
    "import random\n",
    "import re\n",
    "import sys\n",
    "\n",
    "# Complete the birthdayCakeCandles function below.\n",
    "def birthdayCakeCandles(ar):\n",
    "    m = max(ar)\n",
    "    return ar.count(m)\n",
    "\n",
    "if __name__ == '__main__':\n",
    "    fptr = open(os.environ['OUTPUT_PATH'], 'w')\n",
    "\n",
    "    ar_count = int(input())\n",
    "\n",
    "    ar = list(map(int, input().rstrip().split()))\n",
    "\n",
    "    result = birthdayCakeCandles(ar)\n",
    "\n",
    "    fptr.write(str(result) + '\\n')\n",
    "\n",
    "    fptr.close()\n"
   ]
  },
  {
   "cell_type": "markdown",
   "metadata": {},
   "source": [
    "# Exercise 93 - Challenges - Kangaroo"
   ]
  },
  {
   "cell_type": "code",
   "execution_count": null,
   "metadata": {},
   "outputs": [],
   "source": [
    "x1,n1,x2,n2 = map(int, input().split())\n",
    "if n1 == n2 and x1!=x2:\n",
    "    print(\"NO\")\n",
    "else:\n",
    "    a = (x2-x1)/(n1-n2)\n",
    "    if a>0 and int(a)==a:\n",
    "        print(\"YES\")\n",
    "    else:\n",
    "        print(\"NO\")"
   ]
  },
  {
   "cell_type": "markdown",
   "metadata": {},
   "source": [
    "# Exercise 94 - Challenges - Viral Advertising"
   ]
  },
  {
   "cell_type": "code",
   "execution_count": null,
   "metadata": {},
   "outputs": [],
   "source": [
    "import math\n",
    "n = int(input())\n",
    "shared = 5\n",
    "s = 0\n",
    "for i in range(1,n+1):\n",
    "    liked = math.floor(shared/2)\n",
    "    s += liked\n",
    "    shared = liked*3\n",
    "print (s)"
   ]
  },
  {
   "cell_type": "markdown",
   "metadata": {},
   "source": [
    "# Exercise 95 - Challenges - Recursive Digit Sum"
   ]
  },
  {
   "cell_type": "markdown",
   "metadata": {},
   "source": [
    "# Exercise 96 - Challenges - Insertion Sort - Part 1"
   ]
  },
  {
   "cell_type": "code",
   "execution_count": null,
   "metadata": {},
   "outputs": [],
   "source": [
    "def insertionSort1(n, a):\n",
    "    c = a[-1]\n",
    "    i=n-2\n",
    "    d = min(a)\n",
    "    while i>=0:\n",
    "        if a[i]<c:\n",
    "            a.remove(a[i+1])\n",
    "            a.insert(i+1,c)\n",
    "            print(\" \".join(list(map(str,a))))\n",
    "            break\n",
    "        else:\n",
    "            a.remove(a[i+1])\n",
    "            a.insert(i+1,a[i])\n",
    "            print(\" \".join(list(map(str,a))))\n",
    "        i = i-1\n",
    "    if (not (c in a)) and (d==c):\n",
    "        a.remove(a[0])\n",
    "        a.insert(0,c)\n",
    "        print(\" \".join(list(map(str,a))))\n",
    "\n",
    "\n",
    "n = int(input())\n",
    "a = list(map(int,input().split()))\n",
    "insertionSort1(n,a)"
   ]
  },
  {
   "cell_type": "markdown",
   "metadata": {},
   "source": [
    "# Exercise 97 - Challenges - Insertion Sort - Part 2"
   ]
  },
  {
   "cell_type": "code",
   "execution_count": null,
   "metadata": {},
   "outputs": [],
   "source": [
    "def insertionSort2(i, a):\n",
    "    new = sorted(a[:i+1]) + a[i+1:]\n",
    "    print(' '.join(list(map(str,new))))\n",
    "\n",
    "n = int(input())\n",
    "a = list(map(int,input().split()))\n",
    "for i in range(1,n):\n",
    "    insertionSort2(i, a)"
   ]
  }
 ],
 "metadata": {
  "kernelspec": {
   "display_name": "Python 3",
   "language": "python",
   "name": "python3"
  },
  "language_info": {
   "codemirror_mode": {
    "name": "ipython",
    "version": 3
   },
   "file_extension": ".py",
   "mimetype": "text/x-python",
   "name": "python",
   "nbconvert_exporter": "python",
   "pygments_lexer": "ipython3",
   "version": "3.7.1"
  }
 },
 "nbformat": 4,
 "nbformat_minor": 2
}
